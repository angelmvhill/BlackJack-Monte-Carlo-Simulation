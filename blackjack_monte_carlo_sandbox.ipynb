{
 "cells": [
  {
   "attachments": {},
   "cell_type": "markdown",
   "metadata": {},
   "source": [
    "### Card Deck Generator"
   ]
  },
  {
   "cell_type": "code",
   "execution_count": 1,
   "metadata": {},
   "outputs": [],
   "source": [
    "# create decks of cards\n",
    "    # encore uses 6 decks\n",
    "    # create 1 deck full of random cards\n",
    "        # 24 of each number\n",
    "    # slice the array at index between 4 and 5 decks\n",
    "    # ONLY RESHUFFLE WHEN THE DECK IS FINISHED - KEEP GOING UNTIL ALL THE CARDS HAVE GONE THROUGH"
   ]
  },
  {
   "cell_type": "code",
   "execution_count": 1,
   "metadata": {},
   "outputs": [
    {
     "name": "stdout",
     "output_type": "stream",
     "text": [
      "[2, 3, 4, 5, 6, 7, 8, 9, 10, 10, 10, 10, 'A', 2, 3, 4, 5, 6, 7, 8, 9, 10, 10, 10, 10, 'A', 2, 3, 4, 5, 6, 7, 8, 9, 10, 10, 10, 10, 'A', 2, 3, 4, 5, 6, 7, 8, 9, 10, 10, 10, 10, 'A']\n",
      "[2, 3, 4, 5, 6, 7, 8, 9, 10, 10, 10, 10, 'A', 2, 3, 4, 5, 6, 7, 8, 9, 10, 10, 10, 10, 'A', 2, 3, 4, 5, 6, 7, 8, 9, 10, 10, 10, 10, 'A', 2, 3, 4, 5, 6, 7, 8, 9, 10, 10, 10, 10, 'A', 2, 3, 4, 5, 6, 7, 8, 9, 10, 10, 10, 10, 'A', 2, 3, 4, 5, 6, 7, 8, 9, 10, 10, 10, 10, 'A', 2, 3, 4, 5, 6, 7, 8, 9, 10, 10, 10, 10, 'A', 2, 3, 4, 5, 6, 7, 8, 9, 10, 10, 10, 10, 'A', 2, 3, 4, 5, 6, 7, 8, 9, 10, 10, 10, 10, 'A', 2, 3, 4, 5, 6, 7, 8, 9, 10, 10, 10, 10, 'A', 2, 3, 4, 5, 6, 7, 8, 9, 10, 10, 10, 10, 'A', 2, 3, 4, 5, 6, 7, 8, 9, 10, 10, 10, 10, 'A', 2, 3, 4, 5, 6, 7, 8, 9, 10, 10, 10, 10, 'A', 2, 3, 4, 5, 6, 7, 8, 9, 10, 10, 10, 10, 'A', 2, 3, 4, 5, 6, 7, 8, 9, 10, 10, 10, 10, 'A', 2, 3, 4, 5, 6, 7, 8, 9, 10, 10, 10, 10, 'A', 2, 3, 4, 5, 6, 7, 8, 9, 10, 10, 10, 10, 'A', 2, 3, 4, 5, 6, 7, 8, 9, 10, 10, 10, 10, 'A', 2, 3, 4, 5, 6, 7, 8, 9, 10, 10, 10, 10, 'A', 2, 3, 4, 5, 6, 7, 8, 9, 10, 10, 10, 10, 'A', 2, 3, 4, 5, 6, 7, 8, 9, 10, 10, 10, 10, 'A', 2, 3, 4, 5, 6, 7, 8, 9, 10, 10, 10, 10, 'A', 2, 3, 4, 5, 6, 7, 8, 9, 10, 10, 10, 10, 'A', 2, 3, 4, 5, 6, 7, 8, 9, 10, 10, 10, 10, 'A']\n",
      "num of aces = 24\n",
      "[2, 10, 4, 4, 10, 3, 7, 9, 4, 6, 5, 7, 8, 10, 6, 7, 2, 8, 4, 5, 6, 10, 10, 6, 5, 4, 7, 'A', 5, 6, 7, 10, 'A', 10, 10, 3, 7, 5, 6, 3, 10, 2, 2, 4, 3, 8, 6, 'A', 9, 10, 10, 10, 5, 9, 10, 'A', 7, 5, 10, 10, 8, 8, 6, 4, 5, 'A', 10, 9, 10, 7, 10, 2, 10, 10, 10, 6, 10, 6, 2, 3, 5, 10, 6, 10, 7, 7, 3, 10, 10, 10, 6, 6, 10, 10, 10, 'A', 2, 4, 3, 7, 10, 10, 4, 3, 8, 10, 10, 8, 10, 10, 3, 3, 9, 6, 6, 'A', 9, 5, 5, 4, 4, 8, 2, 10, 7, 10, 3, 9, 2, 7, 3, 'A', 4, 10, 9, 10, 9, 'A', 10, 6, 3, 2, 'A', 8, 10, 10, 7, 3, 'A', 8, 2, 10, 'A', 5, 8, 7, 4, 'A', 4, 3, 4, 5, 8, 5, 10, 5, 'A', 10, 9, 2, 4, 9, 10, 7, 'A', 10, 2, 6, 10, 10, 2, 10, 5, 10, 10, 5, 6, 2, 9, 10, 8, 'A', 10, 4, 10, 'A', 'A', 5, 4, 10, 'A', 8, 10, 7, 2, 10, 9, 10, 9, 10, 10, 6, 10, 7, 'A', 10, 8, 'A', 7, 8, 10, 3, 5, 5, 6, 10, 10, 10, 3, 8, 3, 10, 10, 2, 2, 10, 10, 10, 9, 4, 9, 3, 9, 10, 6, 7, 10, 5, 10, 8, 2, 9, 10, 3, 2, 6, 10, 7, 10, 6, 7, 4, 8, 9, 7, 5, 2, 6, 10, 10, 2, 8, 10, 9, 10, 9, 4, 8, 7, 4, 5, 'A', 10, 9, 3, 10, 3, 4, 8, 10, 8, 'A', 9, 10, 10, 4, 2, 10, 10, 10, 8, 10, 5, 3, 3, 10, 10, 9, 10, 10, 2, 'A']\n",
      "212\n",
      "[2, 10, 4, 4, 10, 3, 7, 9, 4, 6, 5, 7, 8, 10, 6, 7, 2, 8, 4, 5, 6, 10, 10, 6, 5, 4, 7, 'A', 5, 6, 7, 10, 'A', 10, 10, 3, 7, 5, 6, 3, 10, 2, 2, 4, 3, 8, 6, 'A', 9, 10, 10, 10, 5, 9, 10, 'A', 7, 5, 10, 10, 8, 8, 6, 4, 5, 'A', 10, 9, 10, 7, 10, 2, 10, 10, 10, 6, 10, 6, 2, 3, 5, 10, 6, 10, 7, 7, 3, 10, 10, 10, 6, 6, 10, 10, 10, 'A', 2, 4, 3, 7, 10, 10, 4, 3, 8, 10, 10, 8, 10, 10, 3, 3, 9, 6, 6, 'A', 9, 5, 5, 4, 4, 8, 2, 10, 7, 10, 3, 9, 2, 7, 3, 'A', 4, 10, 9, 10, 9, 'A', 10, 6, 3, 2, 'A', 8, 10, 10, 7, 3, 'A', 8, 2, 10, 'A', 5, 8, 7, 4, 'A', 4, 3, 4, 5, 8, 5, 10, 5, 'A', 10, 9, 2, 4, 9, 10, 7, 'A', 10, 2, 6, 10, 10, 2, 10, 5, 10, 10, 5, 6, 2, 9, 10, 8, 'A', 10, 4, 10, 'A', 'A', 5, 4, 10, 'A', 8, 10, 7, 2, 10, 9, 10, 9, 10, 10, 6]\n"
     ]
    }
   ],
   "source": [
    "import random\n",
    "\n",
    "unique_cards_within_deck = [2, 3, 4, 5, 6, 7, 8, 9, 10, 10, 10, 10, 'A']\n",
    "\n",
    "unshuffled_card_deck = []\n",
    "\n",
    "# create card deck\n",
    "for i in range(4):\n",
    "    for i in unique_cards_within_deck:\n",
    "        unshuffled_card_deck.append(i)\n",
    "\n",
    "print(unshuffled_card_deck)\n",
    "\n",
    "multi_deck = []\n",
    "\n",
    "# add additional decks - for Encore, we will add 6 decks\n",
    "for i in range(6):\n",
    "    for i in unshuffled_card_deck:\n",
    "        multi_deck.append(i)\n",
    "\n",
    "print(multi_deck)\n",
    "\n",
    "# test to make sure you have the correct amount of expected cards\n",
    "ace_count = 0\n",
    "\n",
    "for i in multi_deck:\n",
    "    if i == 'A':\n",
    "        ace_count += 1\n",
    "\n",
    "print(f'num of aces = {ace_count}')\n",
    "\n",
    "# shuffle deck\n",
    "random.shuffle(multi_deck)\n",
    "print(multi_deck)\n",
    "\n",
    "# generate random slice number to cut deck\n",
    "min_slice = 4 * 52\n",
    "max_slice = 5 * 52\n",
    "list_slice = random.randrange(min_slice, max_slice)\n",
    "print(list_slice)\n",
    "\n",
    "# cut deck\n",
    "cut_deck = multi_deck[:list_slice]\n",
    "print(cut_deck)"
   ]
  },
  {
   "attachments": {},
   "cell_type": "markdown",
   "metadata": {},
   "source": [
    "### Initial Dealer Function"
   ]
  },
  {
   "cell_type": "code",
   "execution_count": null,
   "metadata": {},
   "outputs": [],
   "source": [
    "# create dealer\n",
    "    # give 1 card to player - delete card from array\n",
    "    # give 1 card to dealer - delete card from array\n",
    "    # give another card to player - delete card from array\n",
    "    # give another card to dealer (hidden card) - delete card from array"
   ]
  },
  {
   "cell_type": "code",
   "execution_count": 4,
   "metadata": {},
   "outputs": [
    {
     "name": "stdout",
     "output_type": "stream",
     "text": [
      "[2]\n",
      "[[2]]\n",
      "[10, 4, 4, 10, 3, 7, 9, 4, 6, 5, 7, 8, 10, 6, 7, 2, 8, 4, 5, 6, 10, 10, 6, 5, 4, 7, 'A', 5, 6, 7, 10, 'A', 10, 10, 3, 7, 5, 6, 3, 10, 2, 2, 4, 3, 8, 6, 'A', 9, 10, 10, 10, 5, 9, 10, 'A', 7, 5, 10, 10, 8, 8, 6, 4, 5, 'A', 10, 9, 10, 7, 10, 2, 10, 10, 10, 6, 10, 6, 2, 3, 5, 10, 6, 10, 7, 7, 3, 10, 10, 10, 6, 6, 10, 10, 10, 'A', 2, 4, 3, 7, 10, 10, 4, 3, 8, 10, 10, 8, 10, 10, 3, 3, 9, 6, 6, 'A', 9, 5, 5, 4, 4, 8, 2, 10, 7, 10, 3, 9, 2, 7, 3, 'A', 4, 10, 9, 10, 9, 'A', 10, 6, 3, 2, 'A', 8, 10, 10, 7, 3, 'A', 8, 2, 10, 'A', 5, 8, 7, 4, 'A', 4, 3, 4, 5, 8, 5, 10, 5, 'A', 10, 9, 2, 4, 9, 10, 7, 'A', 10, 2, 6, 10, 10, 2, 10, 5, 10, 10, 5, 6, 2, 9, 10, 8, 'A', 10, 4, 10, 'A', 'A', 5, 4, 10, 'A', 8, 10, 7, 2, 10, 9, 10, 9, 10, 10, 6]\n"
     ]
    }
   ],
   "source": [
    "# select 1st card from deck\n",
    "player_card = []\n",
    "deal_card = cut_deck[:1]\n",
    "player_card.append(deal_card)\n",
    "del(cut_deck[:1])\n",
    "print(deal_card)\n",
    "print(player_card)\n",
    "print(cut_deck)"
   ]
  }
 ],
 "metadata": {
  "kernelspec": {
   "display_name": "Python 3",
   "language": "python",
   "name": "python3"
  },
  "language_info": {
   "codemirror_mode": {
    "name": "ipython",
    "version": 3
   },
   "file_extension": ".py",
   "mimetype": "text/x-python",
   "name": "python",
   "nbconvert_exporter": "python",
   "pygments_lexer": "ipython3",
   "version": "3.9.13"
  },
  "orig_nbformat": 4,
  "vscode": {
   "interpreter": {
    "hash": "8f2b8f7d7da3b55c8640ff0ad5b752ba61ffdffe564a4378c820bcd9964834b8"
   }
  }
 },
 "nbformat": 4,
 "nbformat_minor": 2
}
