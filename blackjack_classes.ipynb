{
 "cells": [
  {
   "cell_type": "code",
   "execution_count": 1,
   "metadata": {},
   "outputs": [],
   "source": [
    "import random\n",
    "import pandas as pd"
   ]
  },
  {
   "attachments": {},
   "cell_type": "markdown",
   "metadata": {},
   "source": [
    "### Dealer Class"
   ]
  },
  {
   "cell_type": "code",
   "execution_count": 2,
   "metadata": {},
   "outputs": [],
   "source": [
    "class Dealer:\n",
    "    \n",
    "    def __init__(self):\n",
    "        pass\n",
    "\n",
    "    def create_single_deck(self):\n",
    "        \n",
    "        unique_cards_within_deck = [2, 3, 4, 5, 6, 7, 8, 9, 10, 10, 10, 10, 'A']\n",
    "        unshuffled_card_deck = []\n",
    "        # create card deck\n",
    "        for i in range(4):\n",
    "            for i in unique_cards_within_deck:\n",
    "                unshuffled_card_deck.append(i)\n",
    "                \n",
    "        return unshuffled_card_deck\n",
    "\n",
    "    def create_multi_deck(self, unshuffled_card_deck):\n",
    "        \n",
    "        multi_deck = []\n",
    "        # add additional decks - for Encore, we will add 6 decks\n",
    "        for i in range(6):\n",
    "            for i in unshuffled_card_deck:\n",
    "                multi_deck.append(i)\n",
    "\n",
    "        return multi_deck\n",
    "\n",
    "    def shuffle_deck(self, multi_deck):\n",
    "        \n",
    "        random.shuffle(multi_deck)\n",
    "\n",
    "        return multi_deck\n",
    "\n",
    "    def cut_deck(self, multi_deck):\n",
    "        \n",
    "        # generate random slice number to cut deck\n",
    "        min_slice = 4.3 * 52\n",
    "        max_slice = 4.7 * 52\n",
    "        list_slice = random.randrange(min_slice, max_slice)\n",
    "        # cut deck\n",
    "        cut_deck = multi_deck[:list_slice]\n",
    "\n",
    "        return cut_deck\n",
    "\n",
    "    def deal_card_to_player(self, cut_deck, player_cards):\n",
    "\n",
    "        # select 1st card from deck\n",
    "        deal_card = cut_deck[:1]\n",
    "        # add 1st card from deck to player cards (we use a loop to remove the item from the deal_card list)\n",
    "        for i in deal_card:\n",
    "            player_cards.append(i)\n",
    "        # delete 1st card from deck\n",
    "        del(cut_deck[:1])\n",
    "\n",
    "        return player_cards\n",
    "\n",
    "    def deal_card_to_dealer(self, cut_deck, dealer_cards):\n",
    "\n",
    "        # select 1st card from deck\n",
    "        deal_card = cut_deck[:1]\n",
    "        # add 1st card from deck to player cards (we use a loop to remove the item from the deal_card list)\n",
    "        for i in deal_card:\n",
    "            dealer_cards.append(i)\n",
    "        # delete 1st card from deck\n",
    "        del(cut_deck[:1])\n",
    "\n",
    "        return dealer_cards"
   ]
  },
  {
   "attachments": {},
   "cell_type": "markdown",
   "metadata": {},
   "source": [
    "### Test Class"
   ]
  },
  {
   "cell_type": "code",
   "execution_count": 10,
   "metadata": {},
   "outputs": [
    {
     "name": "stdout",
     "output_type": "stream",
     "text": [
      "[2, 3, 4, 5, 6, 7, 8, 9, 10, 10, 10, 10, 'A', 2, 3, 4, 5, 6, 7, 8, 9, 10, 10, 10, 10, 'A', 2, 3, 4, 5, 6, 7, 8, 9, 10, 10, 10, 10, 'A', 2, 3, 4, 5, 6, 7, 8, 9, 10, 10, 10, 10, 'A']\n",
      "[2, 3, 4, 5, 6, 7, 8, 9, 10, 10, 10, 10, 'A', 2, 3, 4, 5, 6, 7, 8, 9, 10, 10, 10, 10, 'A', 2, 3, 4, 5, 6, 7, 8, 9, 10, 10, 10, 10, 'A', 2, 3, 4, 5, 6, 7, 8, 9, 10, 10, 10, 10, 'A', 2, 3, 4, 5, 6, 7, 8, 9, 10, 10, 10, 10, 'A', 2, 3, 4, 5, 6, 7, 8, 9, 10, 10, 10, 10, 'A', 2, 3, 4, 5, 6, 7, 8, 9, 10, 10, 10, 10, 'A', 2, 3, 4, 5, 6, 7, 8, 9, 10, 10, 10, 10, 'A', 2, 3, 4, 5, 6, 7, 8, 9, 10, 10, 10, 10, 'A', 2, 3, 4, 5, 6, 7, 8, 9, 10, 10, 10, 10, 'A', 2, 3, 4, 5, 6, 7, 8, 9, 10, 10, 10, 10, 'A', 2, 3, 4, 5, 6, 7, 8, 9, 10, 10, 10, 10, 'A', 2, 3, 4, 5, 6, 7, 8, 9, 10, 10, 10, 10, 'A', 2, 3, 4, 5, 6, 7, 8, 9, 10, 10, 10, 10, 'A', 2, 3, 4, 5, 6, 7, 8, 9, 10, 10, 10, 10, 'A', 2, 3, 4, 5, 6, 7, 8, 9, 10, 10, 10, 10, 'A', 2, 3, 4, 5, 6, 7, 8, 9, 10, 10, 10, 10, 'A', 2, 3, 4, 5, 6, 7, 8, 9, 10, 10, 10, 10, 'A', 2, 3, 4, 5, 6, 7, 8, 9, 10, 10, 10, 10, 'A', 2, 3, 4, 5, 6, 7, 8, 9, 10, 10, 10, 10, 'A', 2, 3, 4, 5, 6, 7, 8, 9, 10, 10, 10, 10, 'A', 2, 3, 4, 5, 6, 7, 8, 9, 10, 10, 10, 10, 'A', 2, 3, 4, 5, 6, 7, 8, 9, 10, 10, 10, 10, 'A', 2, 3, 4, 5, 6, 7, 8, 9, 10, 10, 10, 10, 'A']\n",
      "[6, 10, 6, 2, 3, 8, 4, 9, 2, 8, 4, 4, 10, 3, 7, 8, 10, 10, 7, 8, 6, 10, 5, 10, 9, 5, 6, 'A', 9, 2, 10, 10, 4, 6, 'A', 10, 9, 10, 'A', 2, 10, 10, 5, 10, 10, 10, 10, 3, 2, 2, 10, 7, 8, 8, 6, 10, 9, 9, 8, 4, 10, 2, 'A', 9, 10, 10, 6, 2, 3, 3, 9, 5, 4, 7, 4, 10, 5, 9, 10, 4, 3, 5, 5, 8, 10, 8, 3, 10, 2, 3, 5, 7, 10, 4, 10, 9, 7, 6, 4, 2, 4, 8, 10, 10, 6, 10, 5, 10, 6, 10, 10, 7, 5, 10, 2, 4, 2, 'A', 'A', 10, 2, 8, 10, 8, 10, 3, 5, 6, 6, 7, 10, 10, 9, 8, 7, 9, 10, 10, 9, 2, 10, 10, 3, 9, 3, 'A', 3, 10, 10, 5, 'A', 7, 3, 'A', 10, 9, 5, 4, 10, 2, 3, 10, 'A', 10, 2, 10, 3, 4, 5, 4, 2, 10, 10, 5, 10, 'A', 7, 8, 6, 9, 5, 2, 3, 8, 7, 9, 2, 6, 5, 4, 10, 10, 5, 4, 7, 'A', 8, 5, 'A', 'A', 10, 6, 10, 10, 10, 4, 10, 10, 4, 7, 9, 8, 3, 8, 10, 6, 10, 10, 7, 9, 'A', 5, 8, 6, 4, 8, 10, 3, 9, 3, 9, 8, 'A', 4, 7, 10, 7, 10, 9, 10, 10, 5, 5, 2, 10, 10, 10, 'A', 8, 10, 3, 10, 6, 10, 4, 6, 7, 10, 8, 10, 7, 'A', 2, 'A', 9, 10, 7, 'A', 5, 'A', 10, 6, 7, 10, 10, 3, 'A', 5, 10, 2, 10, 2, 10, 6, 10, 10, 10, 3, 10, 'A', 10, 10, 10, 7, 8, 6, 10, 6, 7, 9, 10, 4, 3, 3, 10, 2, 7, 'A', 6, 10, 4, 10]\n",
      "[6, 10, 6, 2, 3, 8, 4, 9, 2, 8, 4, 4, 10, 3, 7, 8, 10, 10, 7, 8, 6, 10, 5, 10, 9, 5, 6, 'A', 9, 2, 10, 10, 4, 6, 'A', 10, 9, 10, 'A', 2, 10, 10, 5, 10, 10, 10, 10, 3, 2, 2, 10, 7, 8, 8, 6, 10, 9, 9, 8, 4, 10, 2, 'A', 9, 10, 10, 6, 2, 3, 3, 9, 5, 4, 7, 4, 10, 5, 9, 10, 4, 3, 5, 5, 8, 10, 8, 3, 10, 2, 3, 5, 7, 10, 4, 10, 9, 7, 6, 4, 2, 4, 8, 10, 10, 6, 10, 5, 10, 6, 10, 10, 7, 5, 10, 2, 4, 2, 'A', 'A', 10, 2, 8, 10, 8, 10, 3, 5, 6, 6, 7, 10, 10, 9, 8, 7, 9, 10, 10, 9, 2, 10, 10, 3, 9, 3, 'A', 3, 10, 10, 5, 'A', 7, 3, 'A', 10, 9, 5, 4, 10, 2, 3, 10, 'A', 10, 2, 10, 3, 4, 5, 4, 2, 10, 10, 5, 10, 'A', 7, 8, 6, 9, 5, 2, 3, 8, 7, 9, 2, 6, 5, 4, 10, 10, 5, 4, 7, 'A', 8, 5, 'A', 'A', 10, 6, 10, 10, 10, 4, 10, 10, 4, 7, 9, 8, 3, 8, 10, 6, 10, 10, 7, 9, 'A', 5, 8, 6, 4, 8, 10, 3, 9, 3, 9, 8, 'A', 4]\n",
      "[6, 6]\n",
      "[10, 2]\n",
      "[3, 8, 4, 9, 2, 8, 4, 4, 10, 3, 7, 8, 10, 10, 7, 8, 6, 10, 5, 10, 9, 5, 6, 'A', 9, 2, 10, 10, 4, 6, 'A', 10, 9, 10, 'A', 2, 10, 10, 5, 10, 10, 10, 10, 3, 2, 2, 10, 7, 8, 8, 6, 10, 9, 9, 8, 4, 10, 2, 'A', 9, 10, 10, 6, 2, 3, 3, 9, 5, 4, 7, 4, 10, 5, 9, 10, 4, 3, 5, 5, 8, 10, 8, 3, 10, 2, 3, 5, 7, 10, 4, 10, 9, 7, 6, 4, 2, 4, 8, 10, 10, 6, 10, 5, 10, 6, 10, 10, 7, 5, 10, 2, 4, 2, 'A', 'A', 10, 2, 8, 10, 8, 10, 3, 5, 6, 6, 7, 10, 10, 9, 8, 7, 9, 10, 10, 9, 2, 10, 10, 3, 9, 3, 'A', 3, 10, 10, 5, 'A', 7, 3, 'A', 10, 9, 5, 4, 10, 2, 3, 10, 'A', 10, 2, 10, 3, 4, 5, 4, 2, 10, 10, 5, 10, 'A', 7, 8, 6, 9, 5, 2, 3, 8, 7, 9, 2, 6, 5, 4, 10, 10, 5, 4, 7, 'A', 8, 5, 'A', 'A', 10, 6, 10, 10, 10, 4, 10, 10, 4, 7, 9, 8, 3, 8, 10, 6, 10, 10, 7, 9, 'A', 5, 8, 6, 4, 8, 10, 3, 9, 3, 9, 8, 'A', 4]\n"
     ]
    }
   ],
   "source": [
    "# create deck\n",
    "deck1 = Dealer()\n",
    "single_deck = deck1.create_single_deck()\n",
    "print(single_deck)\n",
    "\n",
    "multi_deck = deck1.create_multi_deck(single_deck)\n",
    "print(multi_deck)\n",
    "\n",
    "shuffle = deck1.shuffle_deck(multi_deck)\n",
    "print(shuffle)\n",
    "\n",
    "cut_deck = deck1.cut_deck(multi_deck)\n",
    "print(cut_deck)\n",
    "\n",
    "# deal cards\n",
    "player_cards = []\n",
    "dealer_cards = []\n",
    "\n",
    "player_cards = deck1.deal_card_to_player(cut_deck, player_cards)\n",
    "dealer_cards = deck1.deal_card_to_dealer(cut_deck, dealer_cards)\n",
    "player_cards = deck1.deal_card_to_player(cut_deck, player_cards)\n",
    "dealer_cards = deck1.deal_card_to_dealer(cut_deck, dealer_cards)\n",
    "\n",
    "print(player_cards)\n",
    "print(dealer_cards)\n",
    "\n",
    "print(cut_deck)"
   ]
  },
  {
   "attachments": {},
   "cell_type": "markdown",
   "metadata": {},
   "source": [
    "### Player Class"
   ]
  },
  {
   "cell_type": "code",
   "execution_count": null,
   "metadata": {},
   "outputs": [],
   "source": []
  },
  {
   "attachments": {},
   "cell_type": "markdown",
   "metadata": {},
   "source": [
    "### Strategy Class"
   ]
  },
  {
   "cell_type": "code",
   "execution_count": null,
   "metadata": {},
   "outputs": [],
   "source": [
    "class Strategy():\n",
    "\n",
    "    def __init__(self, bet, blackjack_payout, portfolio, surrender):\n",
    "        self.bet = bet\n",
    "        self.blackjack_payout = blackjack_payout\n",
    "        self.portfolio = portfolio\n",
    "        self.surrender = surrender\n",
    "\n",
    "    def load_strategy(self):\n",
    "        \n",
    "        # import strategy csv\n",
    "        strategy = pd.read_csv('policy.csv')\n",
    "        # rename columns\n",
    "        strategy.columns = ['Player-Dealer', '2', '3', '4', '5', '6', '7', '8', '9', '10', 'A']\n",
    "        # set index\n",
    "        strategy.set_index('Player-Dealer')\n",
    "        \n",
    "        return strategy\n",
    "\n",
    "    def check_ace(self, player_cards):\n",
    "        \n",
    "        # check for ace\n",
    "        ace_boolean = False\n",
    "        # check for ace within list\n",
    "        for i in player_cards:\n",
    "            if i == 'A':\n",
    "                ace_boolean == True\n",
    "        # sum cards if ace isn't there\n",
    "        if ace_boolean == False:\n",
    "            index_value = sum(player_cards)\n",
    "\n",
    "        # list for all integer cards\n",
    "        aceless_list = []\n",
    "        # count aces\n",
    "        ace_tally = 0\n",
    "\n",
    "        # process if there is an ace\n",
    "        if ace_boolean == True:            \n",
    "            # add integer cards to list\n",
    "            for i in player_cards:\n",
    "                if i != 'A':\n",
    "                    aceless_list.append(i)\n",
    "                if i == 'A':\n",
    "                    ace_tally += 1\n",
    "            \n",
    "            # check if there is more than 1 ace -> excess aces count as 1\n",
    "            if ace_tally > 1:\n",
    "                ace_excess = ace_tally - 1\n",
    "                aceless_list.append(ace_excess)\n",
    "            # sum all non aces\n",
    "            sum = sum(aceless_list)\n",
    "            # if greater than 21, ace = 1\n",
    "            if sum + 11 > 21:\n",
    "                index = sum + 1\n",
    "            # if not, refer to A,n decision rule\n",
    "            else:\n",
    "                index = f'A,{sum}'\n",
    "\n",
    "            return index\n",
    "\n",
    "    def get_strategy_decision(self, strategy, player_cards, dealer_cards):\n",
    "                \n",
    "        player_card_1 = player_cards[0]\n",
    "        player_card_2 = player_cards[1]\n",
    "        index_value = None\n",
    "        # identify what player card's index value is to search df index\n",
    "        if player_card_1 == player_card_2:\n",
    "            index_value = f'{player_card_1},{player_card_2}'\n",
    "        elif player_card_1 == 'A' or player_card_2 == 'A':\n",
    "            index_value = f'{player_card_1},{player_card_2}'\n",
    "        else:\n",
    "            index_value = sum(player_cards)\n",
    "        \n",
    "        str(index_value)\n",
    "        dealer_card_1 = f'{dealer_cards[0]}'\n",
    "        # print(strategy.iloc[index_value, dealer_card_1])\n",
    "        decision = strategy._get_value(index_value, dealer_card_1)\n",
    "\n",
    "        return decision"
   ]
  },
  {
   "attachments": {},
   "cell_type": "markdown",
   "metadata": {},
   "source": [
    "### Test Strategy"
   ]
  },
  {
   "cell_type": "code",
   "execution_count": null,
   "metadata": {},
   "outputs": [],
   "source": []
  },
  {
   "attachments": {},
   "cell_type": "markdown",
   "metadata": {},
   "source": [
    "### Simulation"
   ]
  },
  {
   "cell_type": "code",
   "execution_count": null,
   "metadata": {},
   "outputs": [],
   "source": []
  }
 ],
 "metadata": {
  "kernelspec": {
   "display_name": "base",
   "language": "python",
   "name": "python3"
  },
  "language_info": {
   "codemirror_mode": {
    "name": "ipython",
    "version": 3
   },
   "file_extension": ".py",
   "mimetype": "text/x-python",
   "name": "python",
   "nbconvert_exporter": "python",
   "pygments_lexer": "ipython3",
   "version": "3.9.7"
  },
  "orig_nbformat": 4,
  "vscode": {
   "interpreter": {
    "hash": "ae21a3e56bb7b7ae0242965a996818efe80fa944ec8bb60257b7c2c84d3358e6"
   }
  }
 },
 "nbformat": 4,
 "nbformat_minor": 2
}
