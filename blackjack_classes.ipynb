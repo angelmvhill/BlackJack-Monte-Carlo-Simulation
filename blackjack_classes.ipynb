{
 "cells": [
  {
   "cell_type": "code",
   "execution_count": 1,
   "metadata": {},
   "outputs": [],
   "source": [
    "import random\n",
    "import pandas as pd"
   ]
  },
  {
   "attachments": {},
   "cell_type": "markdown",
   "metadata": {},
   "source": [
    "### Dealer Class"
   ]
  },
  {
   "cell_type": "code",
   "execution_count": null,
   "metadata": {},
   "outputs": [],
   "source": [
    "class Dealer:\n",
    "    \n",
    "    def __init__(self, test):\n",
    "        self.test = test\n",
    "\n",
    "    def create_deck(self):\n",
    "        pass\n",
    "\n",
    "    \n",
    "    \n",
    "\n",
    "    \n"
   ]
  },
  {
   "cell_type": "code",
   "execution_count": null,
   "metadata": {},
   "outputs": [],
   "source": [
    "import random\n",
    "\n",
    "unique_cards_within_deck = [2, 3, 4, 5, 6, 7, 8, 9, 10, 10, 10, 10, 'A']\n",
    "\n",
    "unshuffled_card_deck = []\n",
    "\n",
    "# create card deck\n",
    "for i in range(4):\n",
    "    for i in unique_cards_within_deck:\n",
    "        unshuffled_card_deck.append(i)\n",
    "\n",
    "print(unshuffled_card_deck)\n",
    "\n",
    "multi_deck = []\n",
    "\n",
    "# add additional decks - for Encore, we will add 6 decks\n",
    "for i in range(6):\n",
    "    for i in unshuffled_card_deck:\n",
    "        multi_deck.append(i)\n",
    "\n",
    "print(multi_deck)\n",
    "\n",
    "# test to make sure you have the correct amount of expected cards\n",
    "ace_count = 0\n",
    "\n",
    "for i in multi_deck:\n",
    "    if i == 'A':\n",
    "        ace_count += 1\n",
    "\n",
    "print(f'num of aces = {ace_count}')\n",
    "\n",
    "# shuffle deck\n",
    "random.shuffle(multi_deck)\n",
    "print(multi_deck)\n",
    "\n",
    "# generate random slice number to cut deck\n",
    "min_slice = 4 * 52\n",
    "max_slice = 5 * 52\n",
    "list_slice = random.randrange(min_slice, max_slice)\n",
    "print(list_slice)\n",
    "\n",
    "# cut deck\n",
    "cut_deck = multi_deck[:list_slice]\n",
    "print(cut_deck)"
   ]
  },
  {
   "attachments": {},
   "cell_type": "markdown",
   "metadata": {},
   "source": [
    "### Player Class"
   ]
  },
  {
   "cell_type": "code",
   "execution_count": null,
   "metadata": {},
   "outputs": [],
   "source": []
  },
  {
   "attachments": {},
   "cell_type": "markdown",
   "metadata": {},
   "source": [
    "### Strategy Class"
   ]
  },
  {
   "cell_type": "code",
   "execution_count": null,
   "metadata": {},
   "outputs": [],
   "source": []
  }
 ],
 "metadata": {
  "kernelspec": {
   "display_name": "Python 3",
   "language": "python",
   "name": "python3"
  },
  "language_info": {
   "codemirror_mode": {
    "name": "ipython",
    "version": 3
   },
   "file_extension": ".py",
   "mimetype": "text/x-python",
   "name": "python",
   "nbconvert_exporter": "python",
   "pygments_lexer": "ipython3",
   "version": "3.9.13"
  },
  "orig_nbformat": 4,
  "vscode": {
   "interpreter": {
    "hash": "8f2b8f7d7da3b55c8640ff0ad5b752ba61ffdffe564a4378c820bcd9964834b8"
   }
  }
 },
 "nbformat": 4,
 "nbformat_minor": 2
}
